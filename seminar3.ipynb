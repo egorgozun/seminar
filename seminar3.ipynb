{
 "metadata": {
  "language_info": {
   "codemirror_mode": {
    "name": "ipython",
    "version": 3
   },
   "file_extension": ".py",
   "mimetype": "text/x-python",
   "name": "python",
   "nbconvert_exporter": "python",
   "pygments_lexer": "ipython3",
   "version": "3.9.2-final"
  },
  "orig_nbformat": 2,
  "kernelspec": {
   "name": "python3",
   "display_name": "Python 3.9.2 64-bit",
   "metadata": {
    "interpreter": {
     "hash": "7812ea015bdcee6f23a998adcdd2ef97c151c0c241b7b7070987d9313e41299d"
    }
   }
  }
 },
 "nbformat": 4,
 "nbformat_minor": 2,
 "cells": [
  {
   "cell_type": "code",
   "execution_count": 2,
   "metadata": {},
   "outputs": [],
   "source": [
    "animals = [\"Жираф\", \"Тигр\", \"Лев\", \"Слон\", \"Верблюд\", \"Носорог\"] #создали список "
   ]
  },
  {
   "cell_type": "code",
   "execution_count": 4,
   "metadata": {},
   "outputs": [
    {
     "output_type": "execute_result",
     "data": {
      "text/plain": [
       "['Жираф', 'Тигр', 'Лев', 'Слон', 'Верблюд', 'Носорог']"
      ]
     },
     "metadata": {},
     "execution_count": 4
    }
   ],
   "source": [
    "animals"
   ]
  },
  {
   "cell_type": "code",
   "execution_count": 5,
   "metadata": {},
   "outputs": [
    {
     "output_type": "execute_result",
     "data": {
      "text/plain": [
       "list"
      ]
     },
     "metadata": {},
     "execution_count": 5
    }
   ],
   "source": [
    "type(animals) #тип - список"
   ]
  },
  {
   "cell_type": "code",
   "execution_count": 6,
   "metadata": {},
   "outputs": [],
   "source": [
    "numbers=[0,1,2,3,4,5,6,7,8,9]"
   ]
  },
  {
   "cell_type": "code",
   "execution_count": 7,
   "metadata": {},
   "outputs": [
    {
     "output_type": "execute_result",
     "data": {
      "text/plain": [
       "[0, 1, 2, 3, 4, 5, 6, 7, 8, 9]"
      ]
     },
     "metadata": {},
     "execution_count": 7
    }
   ],
   "source": [
    "numbers"
   ]
  },
  {
   "cell_type": "code",
   "execution_count": 8,
   "metadata": {},
   "outputs": [],
   "source": [
    "mixed=[-1,0.75,\"Жираф\"]"
   ]
  },
  {
   "cell_type": "code",
   "execution_count": 9,
   "metadata": {},
   "outputs": [
    {
     "output_type": "execute_result",
     "data": {
      "text/plain": [
       "list"
      ]
     },
     "metadata": {},
     "execution_count": 9
    }
   ],
   "source": [
    "type(mixed)"
   ]
  },
  {
   "cell_type": "code",
   "execution_count": 11,
   "metadata": {},
   "outputs": [
    {
     "output_type": "execute_result",
     "data": {
      "text/plain": [
       "'Слон'"
      ]
     },
     "metadata": {},
     "execution_count": 11
    }
   ],
   "source": [
    "animals[3] #четвертый (3 индекс) элемент в списке"
   ]
  },
  {
   "cell_type": "code",
   "execution_count": 12,
   "metadata": {},
   "outputs": [
    {
     "output_type": "execute_result",
     "data": {
      "text/plain": [
       "'Жираф'"
      ]
     },
     "metadata": {},
     "execution_count": 12
    }
   ],
   "source": [
    "mixed[-1]"
   ]
  },
  {
   "cell_type": "code",
   "execution_count": 13,
   "metadata": {},
   "outputs": [
    {
     "output_type": "execute_result",
     "data": {
      "text/plain": [
       "5.75"
      ]
     },
     "metadata": {},
     "execution_count": 13
    }
   ],
   "source": [
    "numbers[5]+mixed[1] #int + int"
   ]
  },
  {
   "cell_type": "code",
   "execution_count": 27,
   "metadata": {},
   "outputs": [
    {
     "output_type": "execute_result",
     "data": {
      "text/plain": [
       "'1 - Тигр'"
      ]
     },
     "metadata": {},
     "execution_count": 27
    }
   ],
   "source": [
    "str(numbers[1])+\" - \"+animals[1] # для того, чтобы сложить разные типы, достаточно int перевести в str"
   ]
  },
  {
   "cell_type": "code",
   "execution_count": 17,
   "metadata": {},
   "outputs": [
    {
     "output_type": "execute_result",
     "data": {
      "text/plain": [
       "'Жираф и Верблюд'"
      ]
     },
     "metadata": {},
     "execution_count": 17
    }
   ],
   "source": [
    "mixed[-1]+\" и \" + animals[4]"
   ]
  },
  {
   "cell_type": "code",
   "execution_count": 33,
   "metadata": {},
   "outputs": [],
   "source": [
    "zoo = [animals, numbers, mixed, 10, \"Енот\"] # можно к сложению списков добавлять отдельные элементы"
   ]
  },
  {
   "cell_type": "code",
   "execution_count": 34,
   "metadata": {},
   "outputs": [
    {
     "output_type": "execute_result",
     "data": {
      "text/plain": [
       "[['Жираф', 'Тигр', 'Лев', 'Слон', 'Верблюд', 'Носорог'],\n",
       " [0, 1, 2, 3, 4, 5, 6, 7, 8, 9],\n",
       " [-1, 0.75, 'Жираф'],\n",
       " 10,\n",
       " 'Енот']"
      ]
     },
     "metadata": {},
     "execution_count": 34
    }
   ],
   "source": [
    "zoo"
   ]
  },
  {
   "cell_type": "code",
   "execution_count": 35,
   "metadata": {},
   "outputs": [
    {
     "output_type": "execute_result",
     "data": {
      "text/plain": [
       "[-1, 0.75, 'Жираф']"
      ]
     },
     "metadata": {},
     "execution_count": 35
    }
   ],
   "source": [
    "zoo[2]"
   ]
  },
  {
   "cell_type": "code",
   "execution_count": 36,
   "metadata": {},
   "outputs": [
    {
     "output_type": "execute_result",
     "data": {
      "text/plain": [
       "'Жираф'"
      ]
     },
     "metadata": {},
     "execution_count": 36
    }
   ],
   "source": [
    "zoo[2][2]"
   ]
  },
  {
   "cell_type": "code",
   "execution_count": 40,
   "metadata": {},
   "outputs": [],
   "source": [
    "abc = zoo[0][4]+\" \"+str(mixed[1])"
   ]
  },
  {
   "cell_type": "code",
   "execution_count": 41,
   "metadata": {},
   "outputs": [
    {
     "output_type": "execute_result",
     "data": {
      "text/plain": [
       "str"
      ]
     },
     "metadata": {},
     "execution_count": 41
    }
   ],
   "source": [
    "type(abc)"
   ]
  },
  {
   "cell_type": "code",
   "execution_count": 42,
   "metadata": {},
   "outputs": [
    {
     "output_type": "execute_result",
     "data": {
      "text/plain": [
       "'Верблюд 0.75'"
      ]
     },
     "metadata": {},
     "execution_count": 42
    }
   ],
   "source": [
    "abc"
   ]
  },
  {
   "cell_type": "code",
   "execution_count": 43,
   "metadata": {},
   "outputs": [
    {
     "output_type": "execute_result",
     "data": {
      "text/plain": [
       "['Жираф', 'Тигр', 'Лев', 'Слон', 'Верблюд', 'Носорог', 'Антилопа']"
      ]
     },
     "metadata": {},
     "execution_count": 43
    }
   ],
   "source": [
    "animals+[\"Антилопа\"] # прибавить к списку"
   ]
  },
  {
   "cell_type": "code",
   "execution_count": 44,
   "metadata": {},
   "outputs": [],
   "source": [
    "animals.append(\"Крокодил\") #добавить в список "
   ]
  },
  {
   "cell_type": "code",
   "execution_count": 45,
   "metadata": {},
   "outputs": [
    {
     "output_type": "execute_result",
     "data": {
      "text/plain": [
       "['Жираф', 'Тигр', 'Лев', 'Слон', 'Верблюд', 'Носорог', 'Крокодил']"
      ]
     },
     "metadata": {},
     "execution_count": 45
    }
   ],
   "source": [
    "animals"
   ]
  },
  {
   "cell_type": "code",
   "execution_count": 46,
   "metadata": {},
   "outputs": [],
   "source": [
    "squares = [x**2 for x in range(1,11)]"
   ]
  },
  {
   "cell_type": "code",
   "execution_count": 47,
   "metadata": {},
   "outputs": [
    {
     "output_type": "execute_result",
     "data": {
      "text/plain": [
       "[1, 4, 9, 16, 25, 36, 49, 64, 81, 100]"
      ]
     },
     "metadata": {},
     "execution_count": 47
    }
   ],
   "source": [
    "squares"
   ]
  },
  {
   "cell_type": "code",
   "execution_count": 49,
   "metadata": {},
   "outputs": [
    {
     "output_type": "execute_result",
     "data": {
      "text/plain": [
       "['Тигр', 'Лев', 'Слон', 'Верблюд']"
      ]
     },
     "metadata": {},
     "execution_count": 49
    }
   ],
   "source": [
    "animals[1:5]"
   ]
  },
  {
   "cell_type": "code",
   "execution_count": 52,
   "metadata": {},
   "outputs": [
    {
     "output_type": "execute_result",
     "data": {
      "text/plain": [
       "['Жираф', 'Тигр', 'Слон', 'Верблюд', 'Носорог', 'Крокодил']"
      ]
     },
     "metadata": {},
     "execution_count": 52
    }
   ],
   "source": [
    "animals[0:2]+animals[3:7] #убрали третий(2 индекс) элемент)"
   ]
  },
  {
   "cell_type": "code",
   "execution_count": 56,
   "metadata": {},
   "outputs": [
    {
     "output_type": "execute_result",
     "data": {
      "text/plain": [
       "['Жираф', 'Тигр', 'Лев', 'Слон', 'Верблюд', 'Носорог', 'Крокодил']"
      ]
     },
     "metadata": {},
     "execution_count": 56
    }
   ],
   "source": [
    "animals"
   ]
  },
  {
   "cell_type": "code",
   "execution_count": 63,
   "metadata": {},
   "outputs": [
    {
     "output_type": "execute_result",
     "data": {
      "text/plain": [
       "['Жираф', 'Лев', 'Верблюд']"
      ]
     },
     "metadata": {},
     "execution_count": 63
    }
   ],
   "source": [
    "animals[0:6:2] # начанльный элемент - конечный элемент (-1) - шаг "
   ]
  },
  {
   "cell_type": "code",
   "execution_count": 64,
   "metadata": {},
   "outputs": [
    {
     "output_type": "execute_result",
     "data": {
      "text/plain": [
       "7"
      ]
     },
     "metadata": {},
     "execution_count": 64
    }
   ],
   "source": [
    "len(animals)"
   ]
  },
  {
   "cell_type": "code",
   "execution_count": 65,
   "metadata": {},
   "outputs": [
    {
     "output_type": "execute_result",
     "data": {
      "text/plain": [
       "int"
      ]
     },
     "metadata": {},
     "execution_count": 65
    }
   ],
   "source": [
    "type(len(animals))"
   ]
  },
  {
   "cell_type": "code",
   "execution_count": 66,
   "metadata": {},
   "outputs": [
    {
     "output_type": "execute_result",
     "data": {
      "text/plain": [
       "['Жираф', 'Тигр', 'Лев', 'Слон', 'Верблюд', 'Носорог']"
      ]
     },
     "metadata": {},
     "execution_count": 66
    }
   ],
   "source": [
    "animals[0:len(animals)-1] #убрать последний элемент"
   ]
  },
  {
   "cell_type": "code",
   "execution_count": 67,
   "metadata": {},
   "outputs": [
    {
     "output_type": "execute_result",
     "data": {
      "text/plain": [
       "9"
      ]
     },
     "metadata": {},
     "execution_count": 67
    }
   ],
   "source": [
    "max(numbers) #функции можно использовать со списками"
   ]
  },
  {
   "cell_type": "code",
   "execution_count": 78,
   "metadata": {},
   "outputs": [],
   "source": [
    "x = numbers[5]\n",
    "squares2 = x**2"
   ]
  },
  {
   "cell_type": "code",
   "execution_count": 79,
   "metadata": {},
   "outputs": [
    {
     "output_type": "execute_result",
     "data": {
      "text/plain": [
       "25"
      ]
     },
     "metadata": {},
     "execution_count": 79
    }
   ],
   "source": [
    "squares2"
   ]
  },
  {
   "cell_type": "code",
   "execution_count": 80,
   "metadata": {},
   "outputs": [
    {
     "output_type": "execute_result",
     "data": {
      "text/plain": [
       "[1, 3, 5, 7, 9, 11, 13, 15, 17, 19]"
      ]
     },
     "metadata": {},
     "execution_count": 80
    }
   ],
   "source": [
    "list(range(1,21,2)) #начало, конец-1, шаг"
   ]
  },
  {
   "cell_type": "code",
   "execution_count": 83,
   "metadata": {},
   "outputs": [
    {
     "output_type": "execute_result",
     "data": {
      "text/plain": [
       "[17, 15, 13, 11, 9, 7, 5, 3, 1]"
      ]
     },
     "metadata": {},
     "execution_count": 83
    }
   ],
   "source": [
    "list(range(17,0,-2)) #список нечетных чисел от 17 до 1 "
   ]
  },
  {
   "cell_type": "code",
   "execution_count": 3,
   "metadata": {},
   "outputs": [
    {
     "output_type": "execute_result",
     "data": {
      "text/plain": [
       "'Тигр'"
      ]
     },
     "metadata": {},
     "execution_count": 3
    }
   ],
   "source": [
    "max(animals)"
   ]
  },
  {
   "cell_type": "code",
   "execution_count": 4,
   "metadata": {},
   "outputs": [
    {
     "output_type": "execute_result",
     "data": {
      "text/plain": [
       "'Верблюд'"
      ]
     },
     "metadata": {},
     "execution_count": 4
    }
   ],
   "source": [
    "min(animals)"
   ]
  },
  {
   "cell_type": "code",
   "execution_count": null,
   "metadata": {},
   "outputs": [],
   "source": []
  }
 ]
}